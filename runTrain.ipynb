{
 "cells": [
  {
   "cell_type": "markdown",
   "metadata": {
    "collapsed": true
   },
   "source": [
    "# 基于协同过滤的临床疾病辅助诊断方法研究"
   ]
  },
  {
   "cell_type": "markdown",
   "metadata": {},
   "source": [
    "## 1.数据预处理"
   ]
  },
  {
   "cell_type": "markdown",
   "metadata": {},
   "source": [
    "- 导入数据，数据清洗\n",
    "- 数据变换，连续属性离散化\n",
    "- 数据可视化"
   ]
  },
  {
   "cell_type": "markdown",
   "metadata": {},
   "source": [
    "### 1.1 导入数据，数据清洗"
   ]
  },
  {
   "cell_type": "code",
   "execution_count": 1,
   "metadata": {
    "collapsed": true
   },
   "outputs": [],
   "source": [
    "# -*- coding:utf-8 -*-\n",
    "import numpy as np\n",
    "import pandas as pd\n",
    "import matplotlib.pyplot as plt"
   ]
  },
  {
   "cell_type": "code",
   "execution_count": 4,
   "metadata": {
    "collapsed": true
   },
   "outputs": [],
   "source": [
    "def load_dermatology_dataset(filename):\n",
    "    data=pd.read_csv(filename,delimiter=',')\n",
    "    target_names_nums={'psoriasis':112,'seboreic dermatitis':61,'lichen planus':72,'pityriasis rosea':49,'cronic dermatitis':52,'pityriasis rubra pilaris':20}\n",
    "    target_names=['psoriasis','seboreic dermatitis','lichen planus', 'pityriasis rosea','cronic dermatitis','pityriasis rubra pilaris']\n",
    "    target_nums=[112,61,72,49,52,20]\n",
    "    target_labels=[]\n",
    "    if data.shape[1]==34:\n",
    "        y_num=pd.read_csv('/home/min/bigdata/data/ex1/data/dermatologyNumric.csv',delimiter=',')['target-label-num']\n",
    "        data=data.jion(y_num)\n",
    "    y_num=data['target-label-num']\n",
    "    for c in y_num:\n",
    "        target_labels.append(target_names[int(c-1)])\n",
    "    plot_data=data.copy()\n",
    "    y_class=pd.DataFrame(target_labels,columns=['target-label'])\n",
    "    plot_data['target-label']=y_class\n",
    "    return plot_data,data"
   ]
  },
  {
   "cell_type": "markdown",
   "metadata": {},
   "source": [
    "### 1.2 数据变换，连续属性离散化变成分类属性"
   ]
  },
  {
   "cell_type": "code",
   "execution_count": 37,
   "metadata": {
    "collapsed": true
   },
   "outputs": [],
   "source": [
    "def get_category(data,k=6):\n",
    "    ages_with_nan=data[' Age (linear)']\n",
    "    ages=sorted(ages_with_nan.dropna().values)\n",
    "    rate_list=[]\n",
    "    for i in range(1,k):\n",
    "        rate_list.append(i/float(k))\n",
    "    rate=np.array(rate_list)\n",
    "    qs=len(ages)*rate\n",
    "    qs1=np.ceil(qs)\n",
    "    qs2=np.floor(qs)\n",
    "    qs1=qs1.astype(np.int32)\n",
    "    qs2=qs2.astype(np.int32)\n",
    "    qss=[]\n",
    "    for i in range(len(rate)):\n",
    "        qss.append((ages[qs1[i]]+ages[qs2[i]])/2)\n",
    "    def change2category(x):\n",
    "        if not np.isnan(x):\n",
    "            c=0\n",
    "            while(c<len(qss) and x>qss[c]):\n",
    "                c+=1\n",
    "            return c\n",
    "        return x\n",
    "    ages_c=map(change2category,ages_with_nan.values)\n",
    "    new_ages=pd.Series(ages_c)\n",
    "    data[' Age (linear)']=new_ages\n",
    "    return data"
   ]
  },
  {
   "cell_type": "markdown",
   "metadata": {},
   "source": [
    "### 1.3 数据可视化"
   ]
  },
  {
   "cell_type": "code",
   "execution_count": 46,
   "metadata": {
    "collapsed": true
   },
   "outputs": [],
   "source": [
    "from pandas.tools.plotting import parallel_coordinates\n",
    "def plot_data(plot_data):\n",
    "    plt.figure(figsize=(15,8))\n",
    "    parallel_coordinates(plot_data,'target-label')\n",
    "    plt.show()"
   ]
  },
  {
   "cell_type": "markdown",
   "metadata": {},
   "source": [
    "### 1.4 处理类别不平衡状态"
   ]
  },
  {
   "cell_type": "code",
   "execution_count": 48,
   "metadata": {
    "collapsed": true
   },
   "outputs": [],
   "source": [
    "from smote import Smote\n",
    "def get_smote_sampledata(data):\n",
    "    x=data.iloc[:,:-1].values\n",
    "    y=data.iloc[:,-1].values #数字类别\n",
    "    target_nums=[112,61,72,49,52,20]\n",
    "    mx=target_nums[0]\n",
    "    x_sample=x[y==1]\n",
    "    y_sample=np.ones((len(x_sample),1))\n",
    "    for i in range(1,6):\n",
    "        srate=int(np.floor(mx/target_nums[i]))\n",
    "        print srate\n",
    "        st=Smote(sampling_rate=srate, k=6)\n",
    "        xo=(st.fit(x[y==(i+1)]))\n",
    "        x_sample=np.concatenate((x_sample,xo), axis=0)\n",
    "        y_sample=np.concatenate((y_sample,(i+1)*np.ones((len(xo),1))), axis=0)\n",
    "    data_sample=np.column_stack((x_sample,y_sample))\n",
    "    return x_sample,y_sample"
   ]
  },
  {
   "cell_type": "markdown",
   "metadata": {},
   "source": [
    "## 2. 实验"
   ]
  },
  {
   "cell_type": "code",
   "execution_count": null,
   "metadata": {
    "collapsed": true
   },
   "outputs": [],
   "source": [
    "# 从sklearn.cross_validation中导入train_test_split用于数据分割。\n",
    "from sklearn.cross_validation import train_test_split\n",
    "\n",
    "# 从sklearn.preprocessing里导入数据标准化模块。\n",
    "from sklearn.preprocessing import StandardScaler\n",
    "\n",
    "# 从sklearn.metrics里导入classification_report模块。\n",
    "from sklearn.metrics import classification_report\n",
    "\n",
    "# 从sklearn.linear_model里导入LogisticRegression与SGDClassifier。\n",
    "from sklearn.linear_model import LogisticRegression\n",
    "from sklearn.linear_model import SGDClassifier\n",
    "\n",
    "# 从sklearn.svm里导入基于线性假设的支持向量机分类器LinearSVC。\n",
    "from sklearn.svm import LinearSVC\n",
    "\n",
    "#多层感知器MLP\n",
    "from sklearn.neural_network import MLPClassifier\n",
    "\n",
    "# 对类别型特征进行转化，成为特征向量。\n",
    "from sklearn.feature_extraction import DictVectorizer\n",
    "\n",
    "target_names_nums={'psoriasis':112,'seboreic dermatitis':61,'lichen planus':72,'pityriasis rosea':49,'cronic dermatitis':52,'pityriasis rubra pilaris':20}\n",
    "target_names=['psoriasis','seboreic dermatitis','lichen planus', 'pityriasis rosea','cronic dermatitis','pityriasis rubra pilaris']\n",
    "target_nums=[112,61,72,49,52,20]\n",
    "\n",
    "#读入数据\n",
    "x_df=pd.DataFrame(x_sample,columns=feature_names)\n",
    "y_df=pd.DataFrame(y_sample,columns=['target-label'])\n",
    "\n",
    "\n",
    "\n",
    "# 随机采样20%的数据用于测试，剩下的80%用于构建训练集合。\n",
    "X_train, X_test, y_train, y_test = train_test_split(x_df,y_df, test_size=0.2, random_state=33)\n",
    "print pd.value_counts(y_train.values.flatten())\n",
    "print pd.value_counts(y_test.values.flatten())\n",
    "\n",
    "\n",
    "# 初始化LogisticRegression与SGDClassifier。\n",
    "lr = LogisticRegression()\n",
    "sgdc = SGDClassifier()\n",
    "\n",
    "# 调用LogisticRegression中的fit函数/模块用来训练模型参数。\n",
    "lr.fit(X_train, y_train)\n",
    "# 使用训练好的模型lr对X_test进行预测，结果储存在变量lr_y_predict中。\n",
    "lr_y_predict = lr.predict(X_test)\n",
    "\n",
    "# 使用逻辑斯蒂回归模型自带的评分函数score获得模型在测试集上的准确性结果。\n",
    "print 'Accuracy of LR Classifier:', lr.score(X_test, y_test)\n",
    "# 利用classification_report模块获得LogisticRegression其他三个指标的结果。\n",
    "print classification_report(y_test, lr_y_predict, target_names=target_names)\n",
    "\n",
    "\n",
    "\n",
    "\n",
    "# 初始化线性假设的支持向量机分类器LinearSVC。\n",
    "lsvc = LinearSVC()\n",
    "#进行模型训练\n",
    "lsvc.fit(X_train, y_train)\n",
    "# 利用训练好的模型对测试样本的数字类别进行预测，预测结果储存在变量y_predict中。\n",
    "y_predict = lsvc.predict(X_test)\n",
    "# 使用模型自带的评估函数进行准确性测评。\n",
    "print 'The Accuracy of SVM is', lsvc.score(X_test, y_test)\n",
    "print classification_report(y_test, y_predict, target_names=target_names)\n",
    "\n",
    "\n",
    "\n",
    "# 初始化多层感知器MLP\n",
    "mlp = MLPClassifier(solver='lbfgs', alpha=1e-5,  \n",
    "                    hidden_layer_sizes=(6, 6), random_state=1)\n",
    "mlp.fit(X_train, y_train)\n",
    "mlp_y_pred=mlp.predict(X_test) \n",
    "\n",
    "# 输出多层感知分类器在测试集上的分类准确性，以及更加详细的精确率、召回率、F1指标。\n",
    "print 'The accuracy of MLP Classifier is', mlp.score(X_test, y_test)\n",
    "print classification_report(mlp_y_pred, y_test,target_names=target_names)\n",
    "\n",
    "\n",
    "\n",
    "# 使用随机森林分类器RF\n",
    "# 对类别型特征进行转化，成为特征向量。\n",
    "vec = DictVectorizer(sparse=False)\n",
    "X_train = vec.fit_transform(X_train.to_dict(orient='record'))\n",
    "X_test = vec.transform(X_test.to_dict(orient='record'))\n",
    "\n",
    "# 使用随机森林分类器进行集成模型的训练以及预测分析。\n",
    "from sklearn.ensemble import RandomForestClassifier\n",
    "\n",
    "rfc = RandomForestClassifier()\n",
    "rfc.fit(X_train, y_train)\n",
    "rfc_y_pred = rfc.predict(X_test)\n",
    "\n",
    "# 输出随机森林分类器在测试集上的分类准确性，以及更加详细的精确率、召回率、F1指标。\n",
    "print 'The accuracy of random forest classifier is', rfc.score(X_test, y_test)\n",
    "print classification_report(rfc_y_pred, y_test,target_names=target_names)\n"
   ]
  }
 ],
 "metadata": {
  "kernelspec": {
   "display_name": "Python 2",
   "language": "python",
   "name": "python2"
  },
  "language_info": {
   "codemirror_mode": {
    "name": "ipython",
    "version": 2
   },
   "file_extension": ".py",
   "mimetype": "text/x-python",
   "name": "python",
   "nbconvert_exporter": "python",
   "pygments_lexer": "ipython2",
   "version": "2.7.14"
  }
 },
 "nbformat": 4,
 "nbformat_minor": 2
}
