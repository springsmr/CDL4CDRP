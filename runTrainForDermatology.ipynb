{
 "cells": [
  {
   "cell_type": "markdown",
   "metadata": {
    "collapsed": true
   },
   "source": [
    "# 基于协同过滤的临床疾病辅助诊断方法研究"
   ]
  },
  {
   "cell_type": "markdown",
   "metadata": {},
   "source": [
    "## 1.数据预处理"
   ]
  },
  {
   "cell_type": "markdown",
   "metadata": {},
   "source": [
    "- 导入数据，数据清洗\n",
    "- 数据变换，连续属性离散化\n",
    "- 数据可视化"
   ]
  },
  {
   "cell_type": "markdown",
   "metadata": {},
   "source": [
    "### 1.1 导入数据，数据清洗"
   ]
  },
  {
   "cell_type": "code",
   "execution_count": 1,
   "metadata": {
    "collapsed": true
   },
   "outputs": [],
   "source": [
    "# -*- coding:utf-8 -*-\n",
    "import numpy as np\n",
    "import pandas as pd\n",
    "import os\n",
    "import matplotlib.pyplot as plt"
   ]
  },
  {
   "cell_type": "code",
   "execution_count": 55,
   "metadata": {
    "collapsed": true
   },
   "outputs": [],
   "source": [
    "def load_dermatology_dataset(filename):\n",
    "    data=pd.read_csv(filename,delimiter=',')\n",
    "    if 'mice'in filename or 'KNN'in filename:\n",
    "        data.rename(columns={ data.columns[0]: \"delete\" }, inplace=True)\n",
    "        data.drop('delete',axis=1,inplace=True)\n",
    "    target_names_nums={'psoriasis':112,'seboreic dermatitis':61,'lichen planus':72,'pityriasis rosea':49,'cronic dermatitis':52,'pityriasis rubra pilaris':20}\n",
    "    target_names=['psoriasis','seboreic dermatitis','lichen planus', 'pityriasis rosea','cronic dermatitis','pityriasis rubra pilaris']\n",
    "    target_nums=[112,61,72,49,52,20]\n",
    "    target_labels=[]\n",
    "    if data.shape[1]==34:\n",
    "        y_num=pd.read_csv('/home/min/bigdata/data/ex1/data/dermatologyNumric.csv',delimiter=',')['target-label-num']\n",
    "        data=data.join(y_num)\n",
    "    y_num=data['target-label-num']\n",
    "    data.rename(columns={ data.columns[34]: \"class\" }, inplace=True)\n",
    "    data['class']=data['class']-1\n",
    "    for c in y_num:\n",
    "        target_labels.append(target_names[int(c-1)])\n",
    "    plot_data=data.copy()\n",
    "    y_class=pd.DataFrame(target_labels,columns=['class'])\n",
    "    plot_data['class']=y_class\n",
    "    return plot_data,data"
   ]
  },
  {
   "cell_type": "markdown",
   "metadata": {},
   "source": [
    "### 1.2 数据变换，连续属性离散化变成分类属性"
   ]
  },
  {
   "cell_type": "code",
   "execution_count": 16,
   "metadata": {
    "collapsed": true
   },
   "outputs": [],
   "source": [
    "def get_category(data,k=6):\n",
    "    ages_with_nan=data.iloc[:,33]\n",
    "    ages=sorted(ages_with_nan.dropna().values)\n",
    "    rate_list=[]\n",
    "    for i in range(1,k):\n",
    "        rate_list.append(i/float(k))\n",
    "    rate=np.array(rate_list)\n",
    "    qs=len(ages)*rate\n",
    "    qs1=np.ceil(qs)\n",
    "    qs2=np.floor(qs)\n",
    "    qs1=qs1.astype(np.int32)\n",
    "    qs2=qs2.astype(np.int32)\n",
    "    qss=[]\n",
    "    for i in range(len(rate)):\n",
    "        qss.append((ages[qs1[i]]+ages[qs2[i]])/2)\n",
    "    def change2category(x):\n",
    "        if not np.isnan(x):\n",
    "            c=0\n",
    "            while(c<len(qss) and x>qss[c]):\n",
    "                c+=1\n",
    "            return c\n",
    "        return x\n",
    "    ages_c=map(change2category,ages_with_nan.values)\n",
    "    new_ages=pd.Series(ages_c)\n",
    "    data.iloc[:,33]=new_ages\n",
    "    return data"
   ]
  },
  {
   "cell_type": "markdown",
   "metadata": {},
   "source": [
    "### 1.3 数据可视化"
   ]
  },
  {
   "cell_type": "code",
   "execution_count": 4,
   "metadata": {
    "collapsed": true
   },
   "outputs": [],
   "source": [
    "from pandas.tools.plotting import parallel_coordinates\n",
    "def plot_data(plot_data):\n",
    "    plt.figure(figsize=(15,8))\n",
    "    parallel_coordinates(plot_data,'target-label')\n",
    "    plt.show()"
   ]
  },
  {
   "cell_type": "markdown",
   "metadata": {},
   "source": [
    "### 1.4 处理类别不平衡状态"
   ]
  },
  {
   "cell_type": "code",
   "execution_count": 5,
   "metadata": {
    "collapsed": true
   },
   "outputs": [],
   "source": [
    "from smote import Smote\n",
    "def get_smote_sampledata(data):\n",
    "    x=data.iloc[:,:-1].values\n",
    "    y=data.iloc[:,-1].values #数字类别\n",
    "    target_nums=[112,61,72,49,52,20]\n",
    "    mx=target_nums[0]\n",
    "    x_sample=x[y==1]\n",
    "    y_sample=np.ones((len(x_sample),1))\n",
    "    for i in range(1,6):\n",
    "        srate=int(np.floor(mx/target_nums[i]))\n",
    "        print srate\n",
    "        st=Smote(sampling_rate=srate, k=6)\n",
    "        xo=(st.fit(x[y==(i+1)]))\n",
    "        x_sample=np.concatenate((x_sample,xo), axis=0)\n",
    "        y_sample=np.concatenate((y_sample,(i+1)*np.ones((len(xo),1))), axis=0)\n",
    "    data_sample=np.column_stack((x_sample,y_sample))\n",
    "    return x_sample,y_sample"
   ]
  },
  {
   "cell_type": "markdown",
   "metadata": {},
   "source": [
    "## 2. 实验"
   ]
  },
  {
   "cell_type": "code",
   "execution_count": 53,
   "metadata": {
    "collapsed": true
   },
   "outputs": [],
   "source": [
    "def create_discrete_dir_filenames(path):\n",
    "    for fname in os.listdir(path):\n",
    "        if  'dermatology'in fname and  'Mean'in fname and fname.endswith('.csv'):\n",
    "            print fname\n",
    "            _,data=load_dermatology_dataset(path+'/'+fname)\n",
    "            data=get_category(data)\n",
    "            data.to_csv(path+'/discrete_data/dermatology/discrete_Numric'+fname,index=False,sep=',')\n",
    "        elif  'dermatology'in fname and  'Numric'in fname and fname.endswith('.csv'):\n",
    "            print fname\n",
    "            _,data=load_dermatology_dataset(path+'/'+fname)\n",
    "            data=get_category(data)\n",
    "            data.to_csv(path+'/discrete_data/dermatology/discrete_'+fname,index=False,sep=',')\n",
    "    print 'Job done...'"
   ]
  },
  {
   "cell_type": "code",
   "execution_count": 56,
   "metadata": {},
   "outputs": [
    {
     "name": "stdout",
     "output_type": "stream",
     "text": [
      "mice_cart_dermatologyNumric.csv\n",
      "mice_pmm_dermatology_missing30Numric.csv\n",
      "KNN1_dermatology_missing10Numric.csv\n",
      "dermatologyMean.csv\n",
      "mice_pmm_dermatologyNumric.csv\n",
      "dermatologyNumric.csv\n",
      "dermatology_missing20Numric.csv\n",
      "dermatology_missing30Mean.csv\n",
      "mice_cart_dermatology_missing10Numric.csv\n",
      "mice_cart_dermatology_missing20Numric.csv\n",
      "KNN1_dermatologyNumric.csv\n",
      "mice_rf_dermatology_missing20Numric.csv\n",
      "mice_cart_dermatology_missing30Numric.csv\n",
      "dermatology_missing10Mean.csv\n",
      "mice_rf_dermatology_missing30Numric.csv\n",
      "dermatology_missing10Numric.csv\n",
      "mice_pmm_dermatology_missing20Numric.csv\n",
      "mice_pmm_dermatology_missing10Numric.csv\n",
      "dermatology_missing20Mean.csv\n",
      "dermatology_missing30Numric.csv\n",
      "mice_rf_dermatologyNumric.csv\n",
      "mice_rf_dermatology_missing10Numric.csv\n",
      "Job done...\n"
     ]
    }
   ],
   "source": [
    "create_discrete_dir_filenames('/home/min/bigdata/data/ex1/data')"
   ]
  },
  {
   "cell_type": "markdown",
   "metadata": {},
   "source": [
    "## 普通的机器学习方法 "
   ]
  },
  {
   "cell_type": "code",
   "execution_count": 15,
   "metadata": {},
   "outputs": [
    {
     "name": "stdout",
     "output_type": "stream",
     "text": [
      "Accuracy of LR Classifier: 0.962962962963\n",
      "The Accuracy of SVM is 0.938271604938\n",
      "The accuracy of MLP Classifier is 0.901234567901\n",
      "The accuracy of random forest classifier is 0.913580246914\n",
      "({'MLP': 0.81222, 'SVM': 0.94223, 'LR': 0.96153, 'RF': 0.89775}, {'MLP': 0.85442, 'SVM': 0.92526, 'LR': 0.96185, 'RF': 0.89537})\n"
     ]
    }
   ],
   "source": [
    "# 从sklearn.cross_validation中导入train_test_split用于数据分割。\n",
    "from sklearn.cross_validation import train_test_split\n",
    "\n",
    "# 从sklearn.preprocessing里导入数据标准化模块。\n",
    "from sklearn.preprocessing import StandardScaler\n",
    "\n",
    "# 从sklearn.metrics里导入classification_report模块。\n",
    "from sklearn.metrics import classification_report\n",
    "\n",
    "# 从sklearn.linear_model里导入LogisticRegression与SGDClassifier。\n",
    "from sklearn.linear_model import LogisticRegression\n",
    "from sklearn.linear_model import SGDClassifier\n",
    "\n",
    "# 从sklearn.svm里导入基于线性假设的支持向量机分类器LinearSVC。\n",
    "from sklearn.svm import LinearSVC\n",
    "\n",
    "#多层感知器MLP\n",
    "from sklearn.neural_network import MLPClassifier\n",
    "\n",
    "# 对类别型特征进行转化，成为特征向量。\n",
    "from sklearn.feature_extraction import DictVectorizer\n",
    "\n",
    "# 使用随机森林分类器进行集成模型的训练以及预测分析。\n",
    "from sklearn.ensemble import RandomForestClassifier\n",
    "\n",
    "import pandas as pd\n",
    "import numpy as np\n",
    "\"\"\"\n",
    "target_names_nums={'psoriasis':112,'seboreic dermatitis':61,'lichen planus':72,'pityriasis rosea':49,'cronic dermatitis':52,'pityriasis rubra pilaris':20}\n",
    "target_names=['psoriasis','seboreic dermatitis','lichen planus', 'pityriasis rosea','cronic dermatitis','pityriasis rubra pilaris']\n",
    "target_nums=[112,61,72,49,52,20]\n",
    "\"\"\"\n",
    "\n",
    "path='/home/min/bigdata/data/ex1/data'\n",
    "fname='mice_pmm_chronic_missing10Numric.csv'\n",
    "def get_precision_f1(report):\n",
    "    lines=report.split('\\n')\n",
    "    line=lines[len(lines)-2]\n",
    "    row_data = filter(None,line.split(' '))\n",
    "    precision=float(row_data[3])\n",
    "    f1=float(row_data[5])\n",
    "    return (precision,f1)\n",
    "#LR SVM MLP RF\n",
    "def report_for_machinelearn(path,fname):\n",
    "    precisons={}\n",
    "    f1s={}\n",
    "    data=pd.read_csv(path+'/'+fname,delimiter=',')\n",
    "    if 'mice'in fname or 'KNN'in fname:\n",
    "        data.rename(columns={ data.columns[0]: \"delete\" }, inplace=True)\n",
    "        data.drop('delete',axis=1,inplace=True)\n",
    "    \n",
    "    X=data.iloc[:,:data.shape[1]-1]\n",
    "    Y=data.iloc[:,data.shape[1]-1]\n",
    "\n",
    "    # 随机采样20%的数据用于测试，剩下的80%用于构建训练集合。\n",
    "    X_train, X_test, y_train, y_test = train_test_split(X,Y, test_size=0.2, random_state=33)\n",
    "    #print pd.value_counts(y_train.values.flatten())\n",
    "    #print pd.value_counts(y_test.values.flatten())\n",
    "\n",
    "\n",
    "    # 初始化LogisticRegression与SGDClassifier。\n",
    "    lr = LogisticRegression()\n",
    "    sgdc = SGDClassifier()\n",
    "\n",
    "    # 调用LogisticRegression中的fit函数/模块用来训练模型参数。\n",
    "    lr.fit(X_train, y_train)\n",
    "    # 使用训练好的模型lr对X_test进行预测，结果储存在变量lr_y_predict中。\n",
    "    lr_y_predict = lr.predict(X_test)\n",
    "\n",
    "    # 使用逻辑斯蒂回归模型自带的评分函数score获得模型在测试集上的准确性结果。\n",
    "    print 'Accuracy of LR Classifier:', lr.score(X_test, y_test)\n",
    "    # 利用classification_report模块获得LogisticRegression其他三个指标的结果。\n",
    "    report=classification_report(y_test, lr_y_predict,digits = 5)\n",
    "    rets=(get_precision_f1(report))\n",
    "    precisons['LR']=rets[0]\n",
    "    f1s['LR']=rets[1]\n",
    "\n",
    "\n",
    "\n",
    "    # 初始化线性假设的支持向量机分类器LinearSVC。\n",
    "    lsvc = LinearSVC()\n",
    "    #进行模型训练\n",
    "    lsvc.fit(X_train, y_train)\n",
    "    # 利用训练好的模型对测试样本的数字类别进行预测，预测结果储存在变量y_predict中。\n",
    "    y_predict = lsvc.predict(X_test)\n",
    "    # 使用模型自带的评估函数进行准确性测评。\n",
    "    print 'The Accuracy of SVM is', lsvc.score(X_test, y_test)\n",
    "\n",
    "    report=classification_report(y_test,y_predict,digits = 5)\n",
    "    rets=(get_precision_f1(report))\n",
    "    precisons['SVM']=rets[0]\n",
    "    f1s['SVM']=rets[1]\n",
    "\n",
    "\n",
    "\n",
    "    # 初始化多层感知器MLP\n",
    "    mlp = MLPClassifier(solver='lbfgs', alpha=1e-5,  \n",
    "                        hidden_layer_sizes=(6, 6), random_state=1)\n",
    "    mlp.fit(X_train, y_train)\n",
    "    mlp_y_pred=mlp.predict(X_test) \n",
    "\n",
    "    # 输出多层感知分类器在测试集上的分类准确性，以及更加详细的精确率、召回率、F1指标。\n",
    "    print 'The accuracy of MLP Classifier is', mlp.score(X_test, y_test)\n",
    "    report=classification_report(y_test,mlp_y_pred,digits = 5)\n",
    "    rets=get_precision_f1(report)\n",
    "    precisons['MLP']=rets[0]\n",
    "    f1s['MLP']=rets[1]\n",
    "\n",
    "\n",
    "    # 使用随机森林分类器RF\n",
    "    # 对类别型特征进行转化，成为特征向量。\n",
    "    vec = DictVectorizer(sparse=False)\n",
    "    X_train = vec.fit_transform(X_train.to_dict(orient='record'))\n",
    "    X_test = vec.transform(X_test.to_dict(orient='record'))\n",
    "\n",
    "    rfc = RandomForestClassifier()\n",
    "    rfc.fit(X_train, y_train)\n",
    "    rfc_y_pred = rfc.predict(X_test)\n",
    "\n",
    "    # 输出随机森林分类器在测试集上的分类准确性，以及更加详细的精确率、召回率、F1指标。\n",
    "    print 'The accuracy of random forest classifier is', rfc.score(X_test, y_test)\n",
    "    report=classification_report(y_test,rfc_y_pred,digits = 5)\n",
    "    rets=get_precision_f1(report)\n",
    "    precisons['RF']=rets[0]\n",
    "    f1s['RF']=rets[1]\n",
    "    return precisons,f1s\n",
    "print report_for_machinelearn(path,fname)"
   ]
  },
  {
   "cell_type": "code",
   "execution_count": 6,
   "metadata": {},
   "outputs": [
    {
     "name": "stdout",
     "output_type": "stream",
     "text": [
      "             precision    recall  f1-score   support\n",
      "\n",
      "          0    1.00000   0.96053   0.97987        76\n",
      "          1    0.62500   1.00000   0.76923         5\n",
      "\n",
      "avg / total    0.97685   0.96296   0.96686        81\n",
      "\n"
     ]
    }
   ],
   "source": [
    "print classification_report(lr_y_predict,y_test,digits = 5)"
   ]
  },
  {
   "cell_type": "markdown",
   "metadata": {},
   "source": [
    "## 一个目录中多个文件运行传统机器学习方法得到的实验结果"
   ]
  },
  {
   "cell_type": "code",
   "execution_count": 26,
   "metadata": {},
   "outputs": [
    {
     "name": "stdout",
     "output_type": "stream",
     "text": [
      "mice_pmm_chronic_missing10Numric.csv\n",
      "Accuracy of LR Classifier: 0.962962962963\n",
      "The Accuracy of SVM is 0.925925925926\n",
      "The accuracy of MLP Classifier is 0.901234567901\n",
      "The accuracy of random forest classifier is 0.938271604938\n",
      "mice_cart_dermatologyNumric.csv\n",
      "Accuracy of LR Classifier: 0.0\n",
      "The Accuracy of SVM is 0.0135135135135\n",
      "The accuracy of MLP Classifier is 0.0135135135135\n",
      "The accuracy of random forest classifier is 0.027027027027\n",
      "mice_pmm_dermatology_missing30Numric.csv\n",
      "Accuracy of LR Classifier: 0.0810810810811\n",
      "The Accuracy of SVM is 0.0540540540541\n",
      "The accuracy of MLP Classifier is 0.0675675675676\n",
      "The accuracy of random forest classifier is 0.0540540540541\n",
      "mice_pmm_chronic_missing20Numric.csv\n",
      "Accuracy of LR Classifier: 0.975308641975\n",
      "The Accuracy of SVM is 0.16049382716\n",
      "The accuracy of MLP Classifier is 0.925925925926\n",
      "The accuracy of random forest classifier is 0.962962962963\n",
      "mice_rf_chronic_missing20Numric.csv\n",
      "Accuracy of LR Classifier: 0.925925925926\n",
      "The Accuracy of SVM is 0.962962962963\n",
      "The accuracy of MLP Classifier is 0.950617283951\n",
      "The accuracy of random forest classifier is 0.938271604938\n",
      "mice_pmm_dermatologyNumric.csv\n",
      "Accuracy of LR Classifier: 0.0\n",
      "The Accuracy of SVM is 0.0135135135135\n",
      "The accuracy of MLP Classifier is 0.0675675675676\n",
      "The accuracy of random forest classifier is 0.027027027027\n",
      "mice_pmm_chronicNumric.csv\n",
      "Accuracy of LR Classifier: 0.962962962963\n",
      "The Accuracy of SVM is 0.938271604938\n",
      "The accuracy of MLP Classifier is 0.901234567901\n",
      "The accuracy of random forest classifier is 0.962962962963\n",
      "mice_cart_chronic_missing30Numric.csv\n",
      "Accuracy of LR Classifier: 0.962962962963\n",
      "The Accuracy of SVM is 0.950617283951\n",
      "The accuracy of MLP Classifier is 0.913580246914\n",
      "The accuracy of random forest classifier is 0.938271604938\n",
      "mice_cart_chronic_missing20Numric.csv\n",
      "Accuracy of LR Classifier: 0.925925925926\n",
      "The Accuracy of SVM is 0.938271604938\n",
      "The accuracy of MLP Classifier is 0.913580246914\n",
      "The accuracy of random forest classifier is 0.975308641975\n",
      "chronic_missing20NumricMean.csv\n",
      "Accuracy of LR Classifier: 0.950617283951\n",
      "The Accuracy of SVM is 0.617283950617\n",
      "The accuracy of MLP Classifier is 0.814814814815\n",
      "The accuracy of random forest classifier is 0.950617283951\n",
      "chronic_missing30NumricMean.csv\n",
      "Accuracy of LR Classifier: 0.962962962963\n",
      "The Accuracy of SVM is 0.481481481481\n",
      "The accuracy of MLP Classifier is 0.493827160494\n",
      "The accuracy of random forest classifier is 0.938271604938\n",
      "mice_cart_dermatology_missing10Numric.csv\n",
      "Accuracy of LR Classifier: 0.0675675675676\n",
      "The Accuracy of SVM is 0.0675675675676\n",
      "The accuracy of MLP Classifier is 0.0405405405405\n",
      "The accuracy of random forest classifier is 0.0405405405405\n",
      "mice_cart_chronic_missing10Numric.csv\n",
      "Accuracy of LR Classifier: 0.962962962963\n",
      "The Accuracy of SVM is 0.938271604938\n",
      "The accuracy of MLP Classifier is 0.925925925926\n",
      "The accuracy of random forest classifier is 0.950617283951\n",
      "mice_cart_dermatology_missing20Numric.csv\n",
      "Accuracy of LR Classifier: 0.0540540540541\n",
      "The Accuracy of SVM is 0.0405405405405\n",
      "The accuracy of MLP Classifier is 0.027027027027\n",
      "The accuracy of random forest classifier is 0.0135135135135\n",
      "chronic_missing10NumricMean.csv\n",
      "Accuracy of LR Classifier: 0.950617283951\n",
      "The Accuracy of SVM is 0.765432098765\n",
      "The accuracy of MLP Classifier is 0.654320987654\n",
      "The accuracy of random forest classifier is 0.962962962963\n",
      "mice_rf_dermatology_missing20Numric.csv\n",
      "Accuracy of LR Classifier: 0.0540540540541\n",
      "The Accuracy of SVM is 0.0405405405405\n",
      "The accuracy of MLP Classifier is 0.0405405405405\n",
      "The accuracy of random forest classifier is 0.0540540540541\n",
      "mice_rf_chronic_missing10Numric.csv\n",
      "Accuracy of LR Classifier: 0.950617283951\n",
      "The Accuracy of SVM is 0.938271604938\n",
      "The accuracy of MLP Classifier is 0.913580246914\n",
      "The accuracy of random forest classifier is 0.938271604938\n",
      "mice_cart_dermatology_missing30Numric.csv\n",
      "Accuracy of LR Classifier: 0.0540540540541\n",
      "The Accuracy of SVM is 0.0135135135135\n",
      "The accuracy of MLP Classifier is 0.0675675675676\n",
      "The accuracy of random forest classifier is 0.027027027027\n",
      "mice_rf_dermatology_missing30Numric.csv\n",
      "Accuracy of LR Classifier: 0.0945945945946\n",
      "The Accuracy of SVM is 0.0810810810811\n",
      "The accuracy of MLP Classifier is 0.0540540540541\n",
      "The accuracy of random forest classifier is 0.0405405405405\n",
      "mice_pmm_chronic_missing30Numric.csv\n",
      "Accuracy of LR Classifier: 0.962962962963\n",
      "The Accuracy of SVM is 0.0740740740741\n",
      "The accuracy of MLP Classifier is 0.925925925926\n",
      "The accuracy of random forest classifier is 0.925925925926\n",
      "mice_pmm_dermatology_missing20Numric.csv\n",
      "Accuracy of LR Classifier: 0.0405405405405\n",
      "The Accuracy of SVM is 0.027027027027\n",
      "The accuracy of MLP Classifier is 0.0135135135135\n",
      "The accuracy of random forest classifier is 0.0\n",
      "mice_pmm_dermatology_missing10Numric.csv\n",
      "Accuracy of LR Classifier: 0.027027027027\n",
      "The Accuracy of SVM is 0.0405405405405\n",
      "The accuracy of MLP Classifier is 0.0135135135135\n",
      "The accuracy of random forest classifier is 0.0135135135135\n",
      "mice_rf_chronic_missing30Numric.csv\n",
      "Accuracy of LR Classifier: 0.913580246914\n",
      "The Accuracy of SVM is 0.925925925926\n",
      "The accuracy of MLP Classifier is 0.925925925926\n",
      "The accuracy of random forest classifier is 0.938271604938\n",
      "chronicNumricMean.csv\n",
      "Accuracy of LR Classifier: 0.962962962963\n",
      "The Accuracy of SVM is 0.802469135802\n",
      "The accuracy of MLP Classifier is 0.617283950617\n",
      "The accuracy of random forest classifier is 0.987654320988\n",
      "mice_rf_dermatologyNumric.csv\n",
      "Accuracy of LR Classifier: 0.0135135135135\n",
      "The Accuracy of SVM is 0.0135135135135\n",
      "The accuracy of MLP Classifier is 0.0\n",
      "The accuracy of random forest classifier is 0.0405405405405\n",
      "mice_rf_chronicNumric.csv\n",
      "Accuracy of LR Classifier: 0.938271604938\n",
      "The Accuracy of SVM is 0.938271604938\n",
      "The accuracy of MLP Classifier is 0.901234567901\n",
      "The accuracy of random forest classifier is 0.950617283951\n",
      "mice_cart_chronicNumric.csv\n",
      "Accuracy of LR Classifier: 0.950617283951\n",
      "The Accuracy of SVM is 0.444444444444\n",
      "The accuracy of MLP Classifier is 0.901234567901\n",
      "The accuracy of random forest classifier is 0.950617283951\n",
      "mice_rf_dermatology_missing10Numric.csv\n",
      "Accuracy of LR Classifier: 0.0135135135135\n",
      "The Accuracy of SVM is 0.0135135135135\n",
      "The accuracy of MLP Classifier is 0.0135135135135\n",
      "The accuracy of random forest classifier is 0.0135135135135\n",
      "                                      LR      MLP       RF      SVM\n",
      "chronicNumricMean.csv            0.96295  0.61077  0.98765  0.79390\n",
      "chronic_missing10NumricMean.csv  0.95062  0.65135  0.96296  0.75096\n",
      "chronic_missing20NumricMean.csv  0.95057  0.81481  0.95060  0.57163\n",
      "chronic_missing30NumricMean.csv  0.96295  0.32650  0.93827  0.32099\n",
      "mice_cart_chronicNumric.csv      0.94305  0.85442  0.94305  0.52560\n",
      "                                      LR      MLP       RF      SVM\n",
      "chronicNumricMean.csv            0.96323  0.62794  0.98796  0.85792\n",
      "chronic_missing10NumricMean.csv  0.95062  0.66143  0.96326  0.83971\n",
      "chronic_missing20NumricMean.csv  0.95169  0.81506  0.95175  0.71394\n",
      "chronic_missing30NumricMean.csv  0.96323  0.24387  0.93856  0.24074\n",
      "mice_cart_chronicNumric.csv      0.95318  0.81222  0.95318  0.91614\n"
     ]
    }
   ],
   "source": [
    "import os\n",
    "data_path='/home/min/bigdata/data/ex1/data'\n",
    "fnames=[]\n",
    "f1s={}\n",
    "precisons={}\n",
    "for fname in os.listdir(data_path):\n",
    "    if 'Numric' in fname and 'KNN' not in fname and ('Mean' in fname or 'KNN' in fname or 'mice' in fname):\n",
    "        print fname\n",
    "        pre,f1=report_for_machinelearn(path,fname)\n",
    "        f1s[fname]=f1\n",
    "        precisons[fname]=pre\n",
    "        \n",
    "precisions_df= pd.DataFrame.from_dict(precisons)\n",
    "precisions_df=precisions_df.T\n",
    "\n",
    "precisions_df.to_csv('/home/min/bigdata/data/ex1/ml_classification_precisions.csv', index = True)\n",
    "f1_scores_df = pd.DataFrame.from_dict(f1s)\n",
    "f1_scores_df=f1_scores_df.T\n",
    "f1_scores_df.to_csv('/home/min/bigdata/data/ex1/ml_classification_f1_score.csv', index = True)\n",
    "print f1_scores_df.head(5)\n",
    "print precisions_df.head(5)"
   ]
  },
  {
   "cell_type": "code",
   "execution_count": 24,
   "metadata": {},
   "outputs": [
    {
     "name": "stdout",
     "output_type": "stream",
     "text": [
      "                                      LR      MLP       RF      SVM\n",
      "chronicNumricMean.csv            0.96295  0.61077  0.97531  0.51640\n",
      "chronic_missing10NumricMean.csv  0.95062  0.65135  0.97530  0.82143\n",
      "chronic_missing20NumricMean.csv  0.95057  0.81481  0.92579  0.67375\n",
      "chronic_missing30NumricMean.csv  0.96295  0.32650  0.95053  0.81481\n",
      "mice_cart_chronicNumric.csv      0.94305  0.85442  0.96185  0.04232\n",
      "                                      LR      MLP       RF      SVM\n",
      "chronicNumricMean.csv            0.96323  0.62794  0.97531  0.68222\n",
      "chronic_missing10NumricMean.csv  0.95062  0.66143  0.97648  0.87116\n",
      "chronic_missing20NumricMean.csv  0.95169  0.81506  0.93020  0.81311\n",
      "chronic_missing30NumricMean.csv  0.96323  0.24387  0.95511  0.81506\n",
      "mice_cart_chronicNumric.csv      0.95318  0.81222  0.96153  0.91111\n"
     ]
    }
   ],
   "source": []
  },
  {
   "cell_type": "code",
   "execution_count": null,
   "metadata": {
    "collapsed": true
   },
   "outputs": [],
   "source": []
  }
 ],
 "metadata": {
  "kernelspec": {
   "display_name": "Python 2",
   "language": "python",
   "name": "python2"
  },
  "language_info": {
   "codemirror_mode": {
    "name": "ipython",
    "version": 2
   },
   "file_extension": ".py",
   "mimetype": "text/x-python",
   "name": "python",
   "nbconvert_exporter": "python",
   "pygments_lexer": "ipython2",
   "version": "2.7.14"
  }
 },
 "nbformat": 4,
 "nbformat_minor": 2
}
